{
 "cells": [
  {
   "cell_type": "code",
   "execution_count": 1,
   "metadata": {},
   "outputs": [
    {
     "name": "stderr",
     "output_type": "stream",
     "text": [
      "[nltk_data] Downloading package vader_lexicon to\n",
      "[nltk_data]     C:\\Users\\whitty\\AppData\\Roaming\\nltk_data...\n",
      "[nltk_data]   Package vader_lexicon is already up-to-date!\n"
     ]
    },
    {
     "data": {
      "text/plain": [
       "True"
      ]
     },
     "execution_count": 1,
     "metadata": {},
     "output_type": "execute_result"
    }
   ],
   "source": [
    "import csv\n",
    "from flask import Flask, render_template, request\n",
    "from textblob import TextBlob\n",
    "from nltk.sentiment.vader import SentimentIntensityAnalyzer\n",
    "from afinn import Afinn\n",
    "import nltk\n",
    "import pandas as pd\n",
    "nltk.download('vader_lexicon')"
   ]
  },
  {
   "cell_type": "code",
   "execution_count": 6,
   "metadata": {},
   "outputs": [
    {
     "name": "stdout",
     "output_type": "stream",
     "text": [
      "   Unnamed: 0         reviews.date  \\\n",
      "0           1  2014-11-25 03:37:34   \n",
      "1           2  2017-09-20 13:13:29   \n",
      "2           3  2011-12-22 03:52:36   \n",
      "3           4  2017-09-13 01:54:31   \n",
      "4           5  2016-05-18 07:15:02   \n",
      "\n",
      "                                             name  \\\n",
      "0                                   Pink Moscato    \n",
      "1            California Roots Moscato White Wine    \n",
      "2  Martini Rossi174 Asti Spumante Sparkling Wine    \n",
      "3       California Roots Pinot Grigio White Wine    \n",
      "4                                Cabernet Shiraz    \n",
      "\n",
      "                                        reviews.text  \\\n",
      "0  4 750ml bottles for the price of two With way ...   \n",
      "1                      Delicious and very affordable   \n",
      "2  Nice fruity and sweet taking sparkling wine. G...   \n",
      "3  I'm not sure if this is a bad bottle or if it ...   \n",
      "4  Best of the bunch of all of The wine Cube sku'...   \n",
      "\n",
      "                                       reviews.title reviews.username  \\\n",
      "0               Yum! Plus, Environmentally Friendly!       Chelseamay   \n",
      "1                                                NaN       Proberts43   \n",
      "2          Nice Sparkling Wine Compared To Champagne           Shelly   \n",
      "3                                Fizzy Pinot Grigio?         Marenghi   \n",
      "4  Please Don't Discontinue This Flavor Combination!       Winegirlie   \n",
      "\n",
      "   expert_index              expert_variety  \\\n",
      "0           481                     Moscato   \n",
      "1            11  Bordeaux-style White Blend   \n",
      "2           895          Roussanne-Viognier   \n",
      "3            11  Bordeaux-style White Blend   \n",
      "4           142              Cabernet Franc   \n",
      "\n",
      "                                  expert_description  \\\n",
      "0  Fans of stickies may find pleasure in this bot...   \n",
      "1  A white Bordeaux-style blend, crisp and edgy, ...   \n",
      "2  Vivid, fresh apple aromas and flavors plus lig...   \n",
      "3  A white Bordeaux-style blend, crisp and edgy, ...   \n",
      "4  The nose is muted somewhat and the wine grippy...   \n",
      "\n",
      "          expert_designation  expert_points  expert_price expert_province  \\\n",
      "0  Tears of Dew Late Harvest             86            20      California   \n",
      "1                    Updraft             86            17      Washington   \n",
      "2                Cuvée Blanc             89            20      California   \n",
      "3                    Updraft             86            17      Washington   \n",
      "4     Estate AlphaWOLF Ranch             85            55      California   \n",
      "\n",
      "        expert_region_1   expert_region_2 expert_taster_name  \\\n",
      "0           Paso Robles     Central Coast      Matt Kettmann   \n",
      "1  Columbia Valley (WA)   Columbia Valley       Paul Gregutt   \n",
      "2      Sierra Foothills  Sierra Foothills         Jim Gordon   \n",
      "3  Columbia Valley (WA)   Columbia Valley       Paul Gregutt   \n",
      "4           Napa Valley              Napa     Virginie Boone   \n",
      "\n",
      "  expert_taster_twitter_handle      expert_winery  \n",
      "0                @mattkettmann                EOS  \n",
      "1                  @paulgwine   Cloudlift Cellars  \n",
      "2             @gordone_cellars              Andis  \n",
      "3                  @paulgwine   Cloudlift Cellars  \n",
      "4                      @vboone          Eagle Eye  \n",
      "['Moscato', 'Bordeaux-style White Blend', 'Roussanne-Viognier', 'Cabernet Franc', 'Cabernet Sauvignon', 'Tempranillo-Cabernet Sauvignon', 'Riesling', 'Pinot Noir', 'Chardonnay', 'Red Blend', 'Sauvignon Blanc', 'Pinot-Chardonnay', 'Pinot Grigio', 'Bordeaux-style Red Blend', 'Vidal Blanc', 'Carignane', 'Sparkling Blend', 'Pinot Gris-Gewürztraminer', 'Sagrantino', 'Merlot-Cabernet', 'Black Muscat', 'Viognier-Chardonnay', 'Chenin Blanc', 'Orange Muscat', 'Muscat Blanc à Petits Grains', 'Petite Sirah', 'Sauvignon Blanc-Semillon', 'Rhône-style Red Blend', 'Malbec-Cabernet Sauvignon']\n",
      "{'Sauvignon Blanc-Semillon', 'Malbec-Cabernet Sauvignon', 'Pinot-Chardonnay', 'Muscat Blanc à Petits Grains', 'Tempranillo-Cabernet Sauvignon', 'Pinot Gris-Gewürztraminer', 'Petite Sirah', 'Merlot-Cabernet', 'Black Muscat', 'Riesling', 'Roussanne-Viognier', 'Bordeaux-style Red Blend', 'Sparkling Blend', 'Vidal Blanc', 'Cabernet Sauvignon', 'Orange Muscat', 'Cabernet Franc', 'Moscato', 'Sagrantino', 'Chardonnay', 'Carignane', 'Sauvignon Blanc', 'Pinot Grigio', 'Chenin Blanc', 'Viognier-Chardonnay', 'Pinot Noir', 'Bordeaux-style White Blend', 'Rhône-style Red Blend', 'Red Blend'}\n"
     ]
    }
   ],
   "source": [
    "app = Flask(__name__)\n",
    "\n",
    "# Initialize the sentiment analyzers\n",
    "sid = SentimentIntensityAnalyzer()\n",
    "afinn = Afinn()\n",
    "\n",
    "# Read data from CSV file\n",
    "data = pd.read_csv(\"merged_data.csv\")\n",
    "\n",
    "# Debug print to check if data is loaded\n",
    "print(data.head())\n",
    "\n",
    "#Expert variety is what we will make a category\n",
    "varieties = data['expert_variety'].unique().tolist()\n",
    "\n",
    "print(varieties)\n",
    "print(set(data['expert_variety']))"
   ]
  },
  {
   "cell_type": "code",
   "execution_count": 11,
   "metadata": {},
   "outputs": [
    {
     "name": "stdout",
     "output_type": "stream",
     "text": [
      "    Unnamed: 0 reviews.date                         name  \\\n",
      "35          36   2016-09-05  Mogen David Blackberry Wine   \n",
      "\n",
      "                                         reviews.text  \\\n",
      "35  This is my all time favorite wine. But i can n...   \n",
      "\n",
      "                           reviews.title reviews.username  expert_index  \\\n",
      "35  Wish it was in the store more often.           Teresa           383   \n",
      "\n",
      "   expert_variety                                 expert_description  \\\n",
      "35   Chenin Blanc  Coming from vines planted in 1979 or earlier, ...   \n",
      "\n",
      "   expert_designation  expert_points  expert_price expert_province  \\\n",
      "35          Old Vines             89            15      Washington   \n",
      "\n",
      "            expert_region_1  expert_region_2 expert_taster_name  \\\n",
      "35  Walla Walla Valley (WA)  Columbia Valley   Sean P. Sullivan   \n",
      "\n",
      "   expert_taster_twitter_handle   expert_winery  \n",
      "35                @wawinereport  L'Ecole No. 41  \n"
     ]
    },
    {
     "ename": "",
     "evalue": "",
     "output_type": "error",
     "traceback": [
      "\u001b[1;31mThe Kernel crashed while executing code in the current cell or a previous cell. \n",
      "\u001b[1;31mPlease review the code in the cell(s) to identify a possible cause of the failure. \n",
      "\u001b[1;31mClick <a href='https://aka.ms/vscodeJupyterKernelCrash'>here</a> for more info. \n",
      "\u001b[1;31mView Jupyter <a href='command:jupyter.viewOutput'>log</a> for further details."
     ]
    }
   ],
   "source": [
    "print(data[data['expert_variety'] == \"Chenin Blanc\"])"
   ]
  },
  {
   "cell_type": "code",
   "execution_count": 5,
   "metadata": {},
   "outputs": [],
   "source": [
    "# Route for home page\n",
    "@app.route('/')\n",
    "def home():\n",
    "    categories = set(data['expert_variety'])  # Accessing the 'expert_variety' column\n",
    "    return render_template('index.html', categories=categories)"
   ]
  },
  {
   "cell_type": "code",
   "execution_count": 7,
   "metadata": {},
   "outputs": [
    {
     "name": "stdout",
     "output_type": "stream",
     "text": [
      " * Serving Flask app '__main__'\n",
      " * Debug mode: on\n"
     ]
    },
    {
     "name": "stderr",
     "output_type": "stream",
     "text": [
      "WARNING: This is a development server. Do not use it in a production deployment. Use a production WSGI server instead.\n",
      " * Running on http://127.0.0.1:5000\n",
      "Press CTRL+C to quit\n",
      " * Restarting with stat\n"
     ]
    },
    {
     "ename": "SystemExit",
     "evalue": "1",
     "output_type": "error",
     "traceback": [
      "An exception has occurred, use %tb to see the full traceback.\n",
      "\u001b[1;31mSystemExit\u001b[0m\u001b[1;31m:\u001b[0m 1\n"
     ]
    },
    {
     "name": "stderr",
     "output_type": "stream",
     "text": [
      "C:\\Users\\whitty\\AppData\\Local\\Packages\\PythonSoftwareFoundation.Python.3.11_qbz5n2kfra8p0\\LocalCache\\local-packages\\Python311\\site-packages\\IPython\\core\\interactiveshell.py:3585: UserWarning: To exit: use 'exit', 'quit', or Ctrl-D.\n",
      "  warn(\"To exit: use 'exit', 'quit', or Ctrl-D.\", stacklevel=1)\n"
     ]
    }
   ],
   "source": [
    "# Route for analyzing sentiments\n",
    "@app.route('/analyze', methods=['POST'])\n",
    "def analyze():\n",
    "    category = request.form['category']\n",
    "    selected_data = data[data['expert_variety'] == category]  # Filter based on 'expert_variety'\n",
    "\n",
    "    if not selected_data:\n",
    "        return \"Category not found\", 404\n",
    "\n",
    "    # Sentiment analysis using TextBlob\n",
    "    textblob_sentiments = [TextBlob(d['reviews.text']).sentiment for d in selected_data]\n",
    "\n",
    "    # Sentiment analysis using VADER\n",
    "    vader_sentiments = [sid.polarity_scores(d['reviews.text']) for d in selected_data]\n",
    "\n",
    "    # Sentiment analysis using AFINN\n",
    "    afinn_sentiments = [afinn.score(d['reviews.text']) for d in selected_data]\n",
    "\n",
    "    return render_template('result.html', category=category, selected_data=selected_data, \n",
    "                           textblob_sentiments=textblob_sentiments, vader_sentiments=vader_sentiments,\n",
    "                           afinn_sentiments=afinn_sentiments)\n",
    "\n",
    "if __name__ == '__main__':\n",
    "    app.run(debug=True)\n"
   ]
  },
  {
   "cell_type": "code",
   "execution_count": 6,
   "metadata": {},
   "outputs": [
    {
     "name": "stdout",
     "output_type": "stream",
     "text": [
      "Top ten expert words: [('flavors', 65), ('wine', 41), ('fruit', 40), ('aromas', 36), ('hints', 32), ('blend', 31), ('like', 28), ('green', 27), ('fine', 27), ('palate', 25)]\n",
      "Top ten amateur words: [('wine', 74), ('great', 39), ('love', 27), ('good', 24), ('like', 24), ('would', 18), ('wines', 18), ('time', 15), ('taste', 15), ('sweet', 14)]\n"
     ]
    },
    {
     "name": "stderr",
     "output_type": "stream",
     "text": [
      "[nltk_data] Downloading package vader_lexicon to\n",
      "[nltk_data]     C:\\Users\\whitty\\AppData\\Roaming\\nltk_data...\n",
      "[nltk_data]   Package vader_lexicon is already up-to-date!\n",
      "[nltk_data] Downloading package punkt to\n",
      "[nltk_data]     C:\\Users\\whitty\\AppData\\Roaming\\nltk_data...\n",
      "[nltk_data]   Package punkt is already up-to-date!\n",
      "[nltk_data] Downloading package stopwords to\n",
      "[nltk_data]     C:\\Users\\whitty\\AppData\\Roaming\\nltk_data...\n",
      "[nltk_data]   Package stopwords is already up-to-date!\n"
     ]
    },
    {
     "ename": "",
     "evalue": "",
     "output_type": "error",
     "traceback": [
      "\u001b[1;31mThe Kernel crashed while executing code in the current cell or a previous cell. \n",
      "\u001b[1;31mPlease review the code in the cell(s) to identify a possible cause of the failure. \n",
      "\u001b[1;31mClick <a href='https://aka.ms/vscodeJupyterKernelCrash'>here</a> for more info. \n",
      "\u001b[1;31mView Jupyter <a href='command:jupyter.viewOutput'>log</a> for further details."
     ]
    }
   ],
   "source": [
    "import csv\n",
    "from flask import Flask, render_template, request\n",
    "from textblob import TextBlob\n",
    "from nltk.sentiment.vader import SentimentIntensityAnalyzer\n",
    "from afinn import Afinn\n",
    "import nltk\n",
    "import pandas as pd\n",
    "from collections import Counter\n",
    "from nltk.corpus import stopwords\n",
    "nltk.download('vader_lexicon')\n",
    "nltk.download('punkt')\n",
    "nltk.download('stopwords')\n",
    "\n",
    "data = pd.read_csv(\"merged_data.csv\")\n",
    "data['expert_description'].dropna()\n",
    "\n",
    "stop_words = set(stopwords.words('english'))\n",
    "\n",
    "expert_words = []\n",
    "amateur_words = []\n",
    "\n",
    "for expert_review in data['expert_description'].dropna():\n",
    "    words = nltk.word_tokenize(expert_review.lower())\n",
    "    expert_words.extend([word for word in words if word.isalpha() and word not in stop_words])\n",
    "\n",
    "for amateur_review in data['reviews.text'].dropna():\n",
    "    words = nltk.word_tokenize(amateur_review.lower())\n",
    "    amateur_words.extend([word for word in words if word.isalpha() and word not in stop_words])\n",
    "\n",
    "    # Count occurrences of words\n",
    "expert_word_counts = Counter(expert_words)\n",
    "amateur_word_counts = Counter(amateur_words)\n",
    "\n",
    "    # Get top ten words for experts and amateurs\n",
    "top_ten_expert_words = expert_word_counts.most_common(10)\n",
    "top_ten_amateur_words = amateur_word_counts.most_common(10)\n",
    "\n",
    "print(\"Top ten expert words:\", top_ten_expert_words)\n",
    "print(\"Top ten amateur words:\", top_ten_amateur_words)\n",
    "\n"
   ]
  },
  {
   "cell_type": "code",
   "execution_count": null,
   "metadata": {},
   "outputs": [],
   "source": [
    "print(data['reviews.text'].dropna().count())"
   ]
  }
 ],
 "metadata": {
  "kernelspec": {
   "display_name": "Python 3",
   "language": "python",
   "name": "python3"
  },
  "language_info": {
   "codemirror_mode": {
    "name": "ipython",
    "version": 3
   },
   "file_extension": ".py",
   "mimetype": "text/x-python",
   "name": "python",
   "nbconvert_exporter": "python",
   "pygments_lexer": "ipython3",
   "version": "3.11.9"
  }
 },
 "nbformat": 4,
 "nbformat_minor": 2
}
